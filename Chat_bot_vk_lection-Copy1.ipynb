{
 "cells": [
  {
   "cell_type": "code",
   "execution_count": 6,
   "id": "3363ced5",
   "metadata": {},
   "outputs": [],
   "source": [
    "#user token\n",
    "access_token='vk1.a.1Ynfz9pz5THkzrpRSCgZ0QdewgV2E4QIWyYEXqZDIG4TnB_fxHCn-UoJTzu1t37NYDczscOvyhZnb8OgvJ3cXqmsdjKJams3L6WeLjdMYFMOeqYbtHCv-Cz0Qk73FgY8ebD4YIBpQ9kbCmrGqpnUAiXteQrwBbRoWsFLXOROPpf4zLZehJENZTOqL0qRBlB-Kf3ASdpyqt3shE4BivuQyA'"
   ]
  },
  {
   "cell_type": "code",
   "execution_count": 7,
   "id": "8044d21a",
   "metadata": {},
   "outputs": [],
   "source": [
    "import vk_api\n",
    "import pandas as pd"
   ]
  },
  {
   "cell_type": "code",
   "execution_count": 8,
   "id": "362f0523",
   "metadata": {},
   "outputs": [],
   "source": [
    "vk_session = vk_api.VkApi(token = access_token)\n",
    "vk = vk_session.get_api()"
   ]
  },
  {
   "cell_type": "code",
   "execution_count": 9,
   "id": "8a3c972a",
   "metadata": {},
   "outputs": [],
   "source": [
    "# Первая часть, инфа о себе"
   ]
  },
  {
   "cell_type": "code",
   "execution_count": 10,
   "id": "511a7ce4",
   "metadata": {},
   "outputs": [
    {
     "data": {
      "text/plain": [
       "[{'id': 808911915,\n",
       "  'has_photo': 1,\n",
       "  'has_mobile': 1,\n",
       "  'sex': 2,\n",
       "  'first_name': 'Karim',\n",
       "  'last_name': 'Sharifullin',\n",
       "  'can_access_closed': True,\n",
       "  'is_closed': False}]"
      ]
     },
     "execution_count": 10,
     "metadata": {},
     "output_type": "execute_result"
    }
   ],
   "source": [
    "vk.users.get(fields='sex,has_mobile,has_photo')"
   ]
  },
  {
   "cell_type": "code",
   "execution_count": 11,
   "id": "d315e5a7",
   "metadata": {},
   "outputs": [
    {
     "data": {
      "text/plain": [
       "{'inner_type': 'wall_wallpost',\n",
       " 'can_delete': 1,\n",
       " 'can_pin': 1,\n",
       " 'comments': {'count': 0},\n",
       " 'marked_as_ads': 0,\n",
       " 'hash': 'X2VsBL6ZP2xbFwvs4iFn--FyfnGJ',\n",
       " 'type': 'post',\n",
       " 'attachments': [{'type': 'photo',\n",
       "   'photo': {'album_id': -6,\n",
       "    'date': 1687186577,\n",
       "    'id': 457239018,\n",
       "    'owner_id': 808911915,\n",
       "    'lat': 55.820833,\n",
       "    'long': 49.151662,\n",
       "    'post_id': 1,\n",
       "    'sizes': [{'height': 130,\n",
       "      'type': 'm',\n",
       "      'width': 130,\n",
       "      'url': 'https://sun9-11.userapi.com/impg/ENwrH6ghAOS70qVa7ABO0BDUDrMXfXBmp45SEg/-k-zQuI4n3s.jpg?size=130x130&quality=96&sign=7fc75c1147edfa83859b9931731ff8e4&c_uniq_tag=s4eEn-L8a3aVKagqiF2jh9njNHZPbTh7mFbbwIyY7Sg&type=album'},\n",
       "     {'height': 130,\n",
       "      'type': 'o',\n",
       "      'width': 130,\n",
       "      'url': 'https://sun9-11.userapi.com/impg/ENwrH6ghAOS70qVa7ABO0BDUDrMXfXBmp45SEg/-k-zQuI4n3s.jpg?size=130x130&quality=96&sign=7fc75c1147edfa83859b9931731ff8e4&c_uniq_tag=s4eEn-L8a3aVKagqiF2jh9njNHZPbTh7mFbbwIyY7Sg&type=album'},\n",
       "     {'height': 200,\n",
       "      'type': 'p',\n",
       "      'width': 200,\n",
       "      'url': 'https://sun9-11.userapi.com/impg/ENwrH6ghAOS70qVa7ABO0BDUDrMXfXBmp45SEg/-k-zQuI4n3s.jpg?size=200x200&quality=96&sign=14ae25624a4446000518f5c8cf8d0fa8&c_uniq_tag=RxdPwgwDZzTo6kSKUDh_CixfygecY66XJJaMQluQIC0&type=album'},\n",
       "     {'height': 320,\n",
       "      'type': 'q',\n",
       "      'width': 320,\n",
       "      'url': 'https://sun9-11.userapi.com/impg/ENwrH6ghAOS70qVa7ABO0BDUDrMXfXBmp45SEg/-k-zQuI4n3s.jpg?size=320x320&quality=96&sign=436adf8de44d55bdc460e628729b673e&c_uniq_tag=oyMXVtgxCV8zfwe2bCidzTWdlb9QgU8IsR5XjEj2ZF0&type=album'},\n",
       "     {'height': 510,\n",
       "      'type': 'r',\n",
       "      'width': 510,\n",
       "      'url': 'https://sun9-11.userapi.com/impg/ENwrH6ghAOS70qVa7ABO0BDUDrMXfXBmp45SEg/-k-zQuI4n3s.jpg?size=510x510&quality=96&sign=7aa4c60b26b45233f606bf889ec041af&c_uniq_tag=lvWVD3gBRjTnhxBwCzh9zvV7X_sYyjQbc5clOj1gLmc&type=album'},\n",
       "     {'height': 75,\n",
       "      'type': 's',\n",
       "      'width': 75,\n",
       "      'url': 'https://sun9-11.userapi.com/impg/ENwrH6ghAOS70qVa7ABO0BDUDrMXfXBmp45SEg/-k-zQuI4n3s.jpg?size=75x75&quality=96&sign=79f19109ee68d9ae77172d0afd4c2288&c_uniq_tag=xUHQTmoB4JUVhe7yCiR9BChRGpUHYp-213A_qtKDPik&type=album'},\n",
       "     {'height': 2160,\n",
       "      'type': 'w',\n",
       "      'width': 2160,\n",
       "      'url': 'https://sun9-11.userapi.com/impg/ENwrH6ghAOS70qVa7ABO0BDUDrMXfXBmp45SEg/-k-zQuI4n3s.jpg?size=2160x2160&quality=96&sign=f4ee9d7b1f85d23c508d437b7c4771df&c_uniq_tag=0-BJK2KSuICW39FwjJUMSE2SqwItTLgzK7uCgJHc63E&type=album'},\n",
       "     {'height': 604,\n",
       "      'type': 'x',\n",
       "      'width': 604,\n",
       "      'url': 'https://sun9-11.userapi.com/impg/ENwrH6ghAOS70qVa7ABO0BDUDrMXfXBmp45SEg/-k-zQuI4n3s.jpg?size=604x604&quality=96&sign=7e10f2977a3f27bfc8920a07aae6994b&c_uniq_tag=H7kbu-pQH4gX6RVLClkmjM9n2g5Qo31dYFMHNW4nZto&type=album'},\n",
       "     {'height': 807,\n",
       "      'type': 'y',\n",
       "      'width': 807,\n",
       "      'url': 'https://sun9-11.userapi.com/impg/ENwrH6ghAOS70qVa7ABO0BDUDrMXfXBmp45SEg/-k-zQuI4n3s.jpg?size=807x807&quality=96&sign=f4cb81bdd17b1fa5e0df44cab28403e2&c_uniq_tag=frMOvkjpHWEBVkkP3Z8p3PRpDChq_692mTm4Q31S9a8&type=album'},\n",
       "     {'height': 1280,\n",
       "      'type': 'z',\n",
       "      'width': 1280,\n",
       "      'url': 'https://sun9-11.userapi.com/impg/ENwrH6ghAOS70qVa7ABO0BDUDrMXfXBmp45SEg/-k-zQuI4n3s.jpg?size=1280x1280&quality=96&sign=c1ec71c7747b0dd387c43679a4b92056&c_uniq_tag=4Zbd3VDRy9NLPHzUda0Y38Uh5HX8_hgw0OMWP3dqyoM&type=album'}],\n",
       "    'square_crop': '216,216,1728',\n",
       "    'text': '',\n",
       "    'web_view_token': '72077970beac80de1f'}}],\n",
       " 'can_archive': True,\n",
       " 'date': 1687186577,\n",
       " 'from_id': 808911915,\n",
       " 'id': 1,\n",
       " 'is_archived': False,\n",
       " 'is_favorite': False,\n",
       " 'likes': {'can_like': 0, 'count': 2, 'user_likes': 0},\n",
       " 'owner_id': 808911915,\n",
       " 'post_type': 'post',\n",
       " 'reposts': {'count': 0, 'wall_count': 0, 'mail_count': 0},\n",
       " 'text': '',\n",
       " 'views': {'count': 158}}"
      ]
     },
     "execution_count": 11,
     "metadata": {},
     "output_type": "execute_result"
    }
   ],
   "source": [
    "vk.wall.get(count = 1)['items'][0]"
   ]
  },
  {
   "cell_type": "code",
   "execution_count": 12,
   "id": "b2b331e2",
   "metadata": {},
   "outputs": [],
   "source": [
    "# Ну чет тухленко, я вк не пользуюсь"
   ]
  },
  {
   "cell_type": "code",
   "execution_count": 13,
   "id": "875ddc55",
   "metadata": {},
   "outputs": [],
   "source": [
    "# Вторая часть!!!"
   ]
  },
  {
   "cell_type": "code",
   "execution_count": 14,
   "id": "3dfd63b6",
   "metadata": {},
   "outputs": [],
   "source": [
    "result_users = []"
   ]
  },
  {
   "cell_type": "code",
   "execution_count": 15,
   "id": "3f44c392",
   "metadata": {},
   "outputs": [
    {
     "name": "stdout",
     "output_type": "stream",
     "text": [
      "вумен - 305\n"
     ]
    }
   ],
   "source": [
    "women = vk.users.search(city=60, fields=['first_name', 'last_name', 'sex', 'bdate'], sex = '1', count = 1000)['items']\n",
    "filtered_women = [user for user in women if 'bdate' in user and user['bdate'].count('.') == 2]\n",
    "for user in filtered_women:\n",
    "    result_users.append(user)\n",
    "print('вумен -', len(filtered_women))"
   ]
  },
  {
   "cell_type": "code",
   "execution_count": 16,
   "id": "779fa0d4",
   "metadata": {},
   "outputs": [
    {
     "name": "stdout",
     "output_type": "stream",
     "text": [
      "мэны - 310\n"
     ]
    }
   ],
   "source": [
    "men = vk.users.search(city=60, fields=['first_name', 'last_name', 'sex', 'bdate'], sex = '2', count = 1000)['items']\n",
    "filtered_men = [user for user in men if 'bdate' in user and user['bdate'].count('.') == 2]\n",
    "for user in filtered_men:\n",
    "    result_users.append(user)\n",
    "print('мэны -', len(filtered_men))"
   ]
  },
  {
   "cell_type": "code",
   "execution_count": 17,
   "id": "63c0123b",
   "metadata": {},
   "outputs": [
    {
     "name": "stdout",
     "output_type": "stream",
     "text": [
      "615\n"
     ]
    }
   ],
   "source": [
    "print(len(result_users))"
   ]
  },
  {
   "cell_type": "code",
   "execution_count": 18,
   "id": "365c29c8",
   "metadata": {},
   "outputs": [],
   "source": [
    "users_df = pd.DataFrame(result_users)"
   ]
  },
  {
   "cell_type": "code",
   "execution_count": 19,
   "id": "cfb3305e",
   "metadata": {},
   "outputs": [],
   "source": [
    "users_df.to_csv('users.csv', index = False, encoding='utf-8')"
   ]
  },
  {
   "cell_type": "code",
   "execution_count": 20,
   "id": "cba9411c",
   "metadata": {},
   "outputs": [],
   "source": [
    "# Уже лучше, но пропускная способность не оч, по этому вышло меньше тысячи"
   ]
  },
  {
   "cell_type": "code",
   "execution_count": 21,
   "id": "8514468a",
   "metadata": {},
   "outputs": [],
   "source": [
    "# https://datalens.yandex/et32yk7gel3k2"
   ]
  },
  {
   "cell_type": "code",
   "execution_count": null,
   "id": "70ca22c3",
   "metadata": {},
   "outputs": [],
   "source": []
  }
 ],
 "metadata": {
  "kernelspec": {
   "display_name": "Python 3 (ipykernel)",
   "language": "python",
   "name": "python3"
  },
  "language_info": {
   "codemirror_mode": {
    "name": "ipython",
    "version": 3
   },
   "file_extension": ".py",
   "mimetype": "text/x-python",
   "name": "python",
   "nbconvert_exporter": "python",
   "pygments_lexer": "ipython3",
   "version": "3.11.7"
  }
 },
 "nbformat": 4,
 "nbformat_minor": 5
}
